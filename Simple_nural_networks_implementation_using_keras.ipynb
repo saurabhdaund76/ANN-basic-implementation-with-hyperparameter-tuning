{
  "nbformat": 4,
  "nbformat_minor": 0,
  "metadata": {
    "colab": {
      "name": "Simple nural networks implementation using keras.ipynb",
      "provenance": []
    },
    "kernelspec": {
      "name": "python3",
      "display_name": "Python 3"
    },
    "language_info": {
      "name": "python"
    }
  },
  "cells": [
    {
      "cell_type": "code",
      "metadata": {
        "id": "BRWSFtpTv6h8"
      },
      "source": [
        "import pandas as pd\n",
        "import numpy as np"
      ],
      "execution_count": null,
      "outputs": []
    },
    {
      "cell_type": "code",
      "metadata": {
        "id": "28cLJERRxHNA"
      },
      "source": [
        "df = pd.read_csv('/content/drive/MyDrive/ML projects/Churn_Modelling.csv')"
      ],
      "execution_count": null,
      "outputs": []
    },
    {
      "cell_type": "code",
      "metadata": {
        "colab": {
          "base_uri": "https://localhost:8080/",
          "height": 206
        },
        "id": "QVESE_FIxNqH",
        "outputId": "691219bc-baa7-498e-92f2-dd728367bd76"
      },
      "source": [
        "df.head()"
      ],
      "execution_count": null,
      "outputs": [
        {
          "output_type": "execute_result",
          "data": {
            "text/html": [
              "<div>\n",
              "<style scoped>\n",
              "    .dataframe tbody tr th:only-of-type {\n",
              "        vertical-align: middle;\n",
              "    }\n",
              "\n",
              "    .dataframe tbody tr th {\n",
              "        vertical-align: top;\n",
              "    }\n",
              "\n",
              "    .dataframe thead th {\n",
              "        text-align: right;\n",
              "    }\n",
              "</style>\n",
              "<table border=\"1\" class=\"dataframe\">\n",
              "  <thead>\n",
              "    <tr style=\"text-align: right;\">\n",
              "      <th></th>\n",
              "      <th>RowNumber</th>\n",
              "      <th>CustomerId</th>\n",
              "      <th>Surname</th>\n",
              "      <th>CreditScore</th>\n",
              "      <th>Geography</th>\n",
              "      <th>Gender</th>\n",
              "      <th>Age</th>\n",
              "      <th>Tenure</th>\n",
              "      <th>Balance</th>\n",
              "      <th>NumOfProducts</th>\n",
              "      <th>HasCrCard</th>\n",
              "      <th>IsActiveMember</th>\n",
              "      <th>EstimatedSalary</th>\n",
              "      <th>Exited</th>\n",
              "    </tr>\n",
              "  </thead>\n",
              "  <tbody>\n",
              "    <tr>\n",
              "      <th>0</th>\n",
              "      <td>1</td>\n",
              "      <td>15634602</td>\n",
              "      <td>Hargrave</td>\n",
              "      <td>619</td>\n",
              "      <td>France</td>\n",
              "      <td>Female</td>\n",
              "      <td>42</td>\n",
              "      <td>2</td>\n",
              "      <td>0.00</td>\n",
              "      <td>1</td>\n",
              "      <td>1</td>\n",
              "      <td>1</td>\n",
              "      <td>101348.88</td>\n",
              "      <td>1</td>\n",
              "    </tr>\n",
              "    <tr>\n",
              "      <th>1</th>\n",
              "      <td>2</td>\n",
              "      <td>15647311</td>\n",
              "      <td>Hill</td>\n",
              "      <td>608</td>\n",
              "      <td>Spain</td>\n",
              "      <td>Female</td>\n",
              "      <td>41</td>\n",
              "      <td>1</td>\n",
              "      <td>83807.86</td>\n",
              "      <td>1</td>\n",
              "      <td>0</td>\n",
              "      <td>1</td>\n",
              "      <td>112542.58</td>\n",
              "      <td>0</td>\n",
              "    </tr>\n",
              "    <tr>\n",
              "      <th>2</th>\n",
              "      <td>3</td>\n",
              "      <td>15619304</td>\n",
              "      <td>Onio</td>\n",
              "      <td>502</td>\n",
              "      <td>France</td>\n",
              "      <td>Female</td>\n",
              "      <td>42</td>\n",
              "      <td>8</td>\n",
              "      <td>159660.80</td>\n",
              "      <td>3</td>\n",
              "      <td>1</td>\n",
              "      <td>0</td>\n",
              "      <td>113931.57</td>\n",
              "      <td>1</td>\n",
              "    </tr>\n",
              "    <tr>\n",
              "      <th>3</th>\n",
              "      <td>4</td>\n",
              "      <td>15701354</td>\n",
              "      <td>Boni</td>\n",
              "      <td>699</td>\n",
              "      <td>France</td>\n",
              "      <td>Female</td>\n",
              "      <td>39</td>\n",
              "      <td>1</td>\n",
              "      <td>0.00</td>\n",
              "      <td>2</td>\n",
              "      <td>0</td>\n",
              "      <td>0</td>\n",
              "      <td>93826.63</td>\n",
              "      <td>0</td>\n",
              "    </tr>\n",
              "    <tr>\n",
              "      <th>4</th>\n",
              "      <td>5</td>\n",
              "      <td>15737888</td>\n",
              "      <td>Mitchell</td>\n",
              "      <td>850</td>\n",
              "      <td>Spain</td>\n",
              "      <td>Female</td>\n",
              "      <td>43</td>\n",
              "      <td>2</td>\n",
              "      <td>125510.82</td>\n",
              "      <td>1</td>\n",
              "      <td>1</td>\n",
              "      <td>1</td>\n",
              "      <td>79084.10</td>\n",
              "      <td>0</td>\n",
              "    </tr>\n",
              "  </tbody>\n",
              "</table>\n",
              "</div>"
            ],
            "text/plain": [
              "   RowNumber  CustomerId   Surname  ...  IsActiveMember EstimatedSalary Exited\n",
              "0          1    15634602  Hargrave  ...               1       101348.88      1\n",
              "1          2    15647311      Hill  ...               1       112542.58      0\n",
              "2          3    15619304      Onio  ...               0       113931.57      1\n",
              "3          4    15701354      Boni  ...               0        93826.63      0\n",
              "4          5    15737888  Mitchell  ...               1        79084.10      0\n",
              "\n",
              "[5 rows x 14 columns]"
            ]
          },
          "metadata": {},
          "execution_count": 3
        }
      ]
    },
    {
      "cell_type": "code",
      "metadata": {
        "id": "hJlMNdNHxOjv"
      },
      "source": [
        "X= df.iloc[:,3:13]\n",
        "y = df.iloc[:,13]"
      ],
      "execution_count": null,
      "outputs": []
    },
    {
      "cell_type": "code",
      "metadata": {
        "colab": {
          "base_uri": "https://localhost:8080/"
        },
        "id": "HmfSBjQjxga6",
        "outputId": "f1094b20-4f99-4088-96e5-3ef356d1a07f"
      },
      "source": [
        "y"
      ],
      "execution_count": null,
      "outputs": [
        {
          "output_type": "execute_result",
          "data": {
            "text/plain": [
              "0       1\n",
              "1       0\n",
              "2       1\n",
              "3       0\n",
              "4       0\n",
              "       ..\n",
              "9995    0\n",
              "9996    0\n",
              "9997    1\n",
              "9998    1\n",
              "9999    0\n",
              "Name: Exited, Length: 10000, dtype: int64"
            ]
          },
          "metadata": {},
          "execution_count": 11
        }
      ]
    },
    {
      "cell_type": "code",
      "metadata": {
        "id": "cb7z64PlxhOi"
      },
      "source": [
        "geography = pd.get_dummies(X['Geography'],drop_first=True)\n",
        "gender= pd.get_dummies(X['Gender'], drop_first=True)"
      ],
      "execution_count": null,
      "outputs": []
    },
    {
      "cell_type": "code",
      "metadata": {
        "id": "QAZbos7nyHKi"
      },
      "source": [
        "X = pd.concat([X,geography,gender],axis=1)"
      ],
      "execution_count": null,
      "outputs": []
    },
    {
      "cell_type": "code",
      "metadata": {
        "id": "goyqAg7EySQe"
      },
      "source": [
        "# drop the unnecary columns\n",
        "X = X.drop(['Geography','Gender'],axis=1)"
      ],
      "execution_count": null,
      "outputs": []
    },
    {
      "cell_type": "code",
      "metadata": {
        "id": "qzTOxWllyjs3"
      },
      "source": [
        "# train test split\n",
        "from sklearn.model_selection import train_test_split\n",
        "X_train,X_test,y_train,y_test = train_test_split(X,y,test_size=0.2,random_state=12)"
      ],
      "execution_count": null,
      "outputs": []
    },
    {
      "cell_type": "code",
      "metadata": {
        "id": "DDlag_H8y8pm"
      },
      "source": [
        "from sklearn.preprocessing import StandardScaler\n",
        "sc = StandardScaler()\n",
        "X_train = sc.fit_transform(X_train)\n",
        "X_test = sc.transform(X_test)"
      ],
      "execution_count": null,
      "outputs": []
    },
    {
      "cell_type": "code",
      "metadata": {
        "id": "mmnE4-W3zvEQ"
      },
      "source": [
        "import keras\n",
        "from keras.models import Sequential \n",
        "from keras.layers import Dense # this library is important for hidden layers \n",
        "from keras.layers import LeakyReLU,PReLU,ELU\n",
        "from keras.layers import Dropout  # regularization parameter"
      ],
      "execution_count": null,
      "outputs": []
    },
    {
      "cell_type": "code",
      "metadata": {
        "id": "gq_BOHnc0uxl"
      },
      "source": [
        "# initalizing the ANN\n",
        "classifier = Sequential()"
      ],
      "execution_count": null,
      "outputs": []
    },
    {
      "cell_type": "code",
      "metadata": {
        "id": "GWPQJj7s1B5p"
      },
      "source": [
        "# ading the input layer and first hidden layer\n",
        "classifier.add(Dense(units=24,kernel_initializer='he_uniform',activation='relu',input_dim=11))  \n",
        "classifier.add(Dropout(0.3))\n",
        "# units 6 means hidden layers neurons input_dim=11 means there are 11 features in our dataset so 11 and kernel_intializer is used to assign random weights "
      ],
      "execution_count": null,
      "outputs": []
    },
    {
      "cell_type": "code",
      "metadata": {
        "id": "t_JypsSb2sD1"
      },
      "source": [
        "# adding second hidden layer\n",
        "classifier.add(Dense(units=20,kernel_initializer='he_uniform',activation='relu'))\n",
        "classifier.add(Dropout(0.2)) # ths dropout ration will ignore 0.2% of weights to zero"
      ],
      "execution_count": null,
      "outputs": []
    },
    {
      "cell_type": "code",
      "metadata": {
        "id": "p2YlKr0lAAZJ"
      },
      "source": [
        "classifier.add(Dense(units=15,kernel_initializer='he_uniform',activation='relu'))\n",
        "classifier.add(Dropout(0.4))"
      ],
      "execution_count": null,
      "outputs": []
    },
    {
      "cell_type": "code",
      "metadata": {
        "id": "lwNBi1PM3Pqy"
      },
      "source": [
        "# adding output layer\n",
        "classifier.add(Dense(units=1,kernel_initializer='glorot_uniform',activation='sigmoid'))"
      ],
      "execution_count": null,
      "outputs": []
    },
    {
      "cell_type": "code",
      "metadata": {
        "colab": {
          "base_uri": "https://localhost:8080/"
        },
        "id": "BD4KCi2n32Qq",
        "outputId": "99abb764-cd2e-49df-baaf-591a2ad5bbdb"
      },
      "source": [
        "# lets see the classifier summery\n",
        "classifier.summary()"
      ],
      "execution_count": null,
      "outputs": [
        {
          "output_type": "stream",
          "name": "stdout",
          "text": [
            "Model: \"sequential_1\"\n",
            "_________________________________________________________________\n",
            "Layer (type)                 Output Shape              Param #   \n",
            "=================================================================\n",
            "dense_7 (Dense)              (None, 24)                288       \n",
            "_________________________________________________________________\n",
            "dropout (Dropout)            (None, 24)                0         \n",
            "_________________________________________________________________\n",
            "dense_8 (Dense)              (None, 20)                500       \n",
            "_________________________________________________________________\n",
            "dropout_1 (Dropout)          (None, 20)                0         \n",
            "_________________________________________________________________\n",
            "dense_9 (Dense)              (None, 15)                315       \n",
            "_________________________________________________________________\n",
            "dropout_2 (Dropout)          (None, 15)                0         \n",
            "_________________________________________________________________\n",
            "dense_10 (Dense)             (None, 1)                 16        \n",
            "=================================================================\n",
            "Total params: 1,119\n",
            "Trainable params: 1,119\n",
            "Non-trainable params: 0\n",
            "_________________________________________________________________\n"
          ]
        }
      ]
    },
    {
      "cell_type": "code",
      "metadata": {
        "id": "BJ4_bjbK4H2W"
      },
      "source": [
        "# compiling the ann\n",
        "classifier.compile(optimizer='adam',loss='binary_crossentropy',metrics=['accuracy'])\n",
        "# when we have calssification 0 and 1 we should use binary_crossentropy and for multiple outputs we use multi_crossentropy optimizer is basically loss optimizer "
      ],
      "execution_count": null,
      "outputs": []
    },
    {
      "cell_type": "code",
      "metadata": {
        "colab": {
          "base_uri": "https://localhost:8080/"
        },
        "id": "gzIMYzwh5TQT",
        "outputId": "3b6c9b81-6f28-43aa-d69e-836c717c0d48"
      },
      "source": [
        "# fitting ANN to training set \n",
        "model_history = classifier.fit(X_train,y_train,validation_split=0.33,batch_size=10,epochs=100)"
      ],
      "execution_count": null,
      "outputs": [
        {
          "output_type": "stream",
          "name": "stdout",
          "text": [
            "Epoch 1/100\n",
            "536/536 [==============================] - 2s 2ms/step - loss: 0.6179 - accuracy: 0.7179 - val_loss: 0.4666 - val_accuracy: 0.8114\n",
            "Epoch 2/100\n",
            "536/536 [==============================] - 1s 2ms/step - loss: 0.5073 - accuracy: 0.7878 - val_loss: 0.4371 - val_accuracy: 0.8114\n",
            "Epoch 3/100\n",
            "536/536 [==============================] - 1s 2ms/step - loss: 0.4877 - accuracy: 0.7927 - val_loss: 0.4290 - val_accuracy: 0.8114\n",
            "Epoch 4/100\n",
            "536/536 [==============================] - 1s 2ms/step - loss: 0.4728 - accuracy: 0.7951 - val_loss: 0.4205 - val_accuracy: 0.8114\n",
            "Epoch 5/100\n",
            "536/536 [==============================] - 1s 2ms/step - loss: 0.4586 - accuracy: 0.7979 - val_loss: 0.4114 - val_accuracy: 0.8118\n",
            "Epoch 6/100\n",
            "536/536 [==============================] - 1s 2ms/step - loss: 0.4559 - accuracy: 0.8005 - val_loss: 0.4031 - val_accuracy: 0.8167\n",
            "Epoch 7/100\n",
            "536/536 [==============================] - 1s 2ms/step - loss: 0.4481 - accuracy: 0.8065 - val_loss: 0.3892 - val_accuracy: 0.8277\n",
            "Epoch 8/100\n",
            "536/536 [==============================] - 1s 2ms/step - loss: 0.4322 - accuracy: 0.8115 - val_loss: 0.3730 - val_accuracy: 0.8485\n",
            "Epoch 9/100\n",
            "536/536 [==============================] - 1s 2ms/step - loss: 0.4374 - accuracy: 0.8095 - val_loss: 0.3763 - val_accuracy: 0.8376\n",
            "Epoch 10/100\n",
            "536/536 [==============================] - 1s 2ms/step - loss: 0.4287 - accuracy: 0.8143 - val_loss: 0.3682 - val_accuracy: 0.8508\n",
            "Epoch 11/100\n",
            "536/536 [==============================] - 1s 2ms/step - loss: 0.4233 - accuracy: 0.8151 - val_loss: 0.3616 - val_accuracy: 0.8440\n",
            "Epoch 12/100\n",
            "536/536 [==============================] - 1s 2ms/step - loss: 0.4113 - accuracy: 0.8194 - val_loss: 0.3605 - val_accuracy: 0.8451\n",
            "Epoch 13/100\n",
            "536/536 [==============================] - 1s 2ms/step - loss: 0.4141 - accuracy: 0.8190 - val_loss: 0.3554 - val_accuracy: 0.8451\n",
            "Epoch 14/100\n",
            "536/536 [==============================] - 1s 2ms/step - loss: 0.4109 - accuracy: 0.8222 - val_loss: 0.3587 - val_accuracy: 0.8410\n",
            "Epoch 15/100\n",
            "536/536 [==============================] - 1s 2ms/step - loss: 0.4112 - accuracy: 0.8238 - val_loss: 0.3470 - val_accuracy: 0.8542\n",
            "Epoch 16/100\n",
            "536/536 [==============================] - 1s 2ms/step - loss: 0.4086 - accuracy: 0.8220 - val_loss: 0.3474 - val_accuracy: 0.8542\n",
            "Epoch 17/100\n",
            "536/536 [==============================] - 1s 2ms/step - loss: 0.4045 - accuracy: 0.8238 - val_loss: 0.3436 - val_accuracy: 0.8618\n",
            "Epoch 18/100\n",
            "536/536 [==============================] - 1s 2ms/step - loss: 0.3971 - accuracy: 0.8242 - val_loss: 0.3444 - val_accuracy: 0.8569\n",
            "Epoch 19/100\n",
            "536/536 [==============================] - 1s 2ms/step - loss: 0.3942 - accuracy: 0.8278 - val_loss: 0.3385 - val_accuracy: 0.8599\n",
            "Epoch 20/100\n",
            "536/536 [==============================] - 1s 2ms/step - loss: 0.3895 - accuracy: 0.8324 - val_loss: 0.3418 - val_accuracy: 0.8644\n",
            "Epoch 21/100\n",
            "536/536 [==============================] - 1s 2ms/step - loss: 0.3896 - accuracy: 0.8315 - val_loss: 0.3384 - val_accuracy: 0.8656\n",
            "Epoch 22/100\n",
            "536/536 [==============================] - 1s 2ms/step - loss: 0.3924 - accuracy: 0.8296 - val_loss: 0.3386 - val_accuracy: 0.8629\n",
            "Epoch 23/100\n",
            "536/536 [==============================] - 1s 2ms/step - loss: 0.3901 - accuracy: 0.8302 - val_loss: 0.3414 - val_accuracy: 0.8648\n",
            "Epoch 24/100\n",
            "536/536 [==============================] - 1s 2ms/step - loss: 0.3869 - accuracy: 0.8319 - val_loss: 0.3428 - val_accuracy: 0.8557\n",
            "Epoch 25/100\n",
            "536/536 [==============================] - 1s 2ms/step - loss: 0.3853 - accuracy: 0.8360 - val_loss: 0.3354 - val_accuracy: 0.8694\n",
            "Epoch 26/100\n",
            "536/536 [==============================] - 1s 2ms/step - loss: 0.3823 - accuracy: 0.8386 - val_loss: 0.3352 - val_accuracy: 0.8663\n",
            "Epoch 27/100\n",
            "536/536 [==============================] - 1s 2ms/step - loss: 0.3801 - accuracy: 0.8367 - val_loss: 0.3358 - val_accuracy: 0.8667\n",
            "Epoch 28/100\n",
            "536/536 [==============================] - 1s 2ms/step - loss: 0.3785 - accuracy: 0.8384 - val_loss: 0.3353 - val_accuracy: 0.8663\n",
            "Epoch 29/100\n",
            "536/536 [==============================] - 1s 2ms/step - loss: 0.3818 - accuracy: 0.8371 - val_loss: 0.3351 - val_accuracy: 0.8660\n",
            "Epoch 30/100\n",
            "536/536 [==============================] - 1s 2ms/step - loss: 0.3740 - accuracy: 0.8403 - val_loss: 0.3350 - val_accuracy: 0.8690\n",
            "Epoch 31/100\n",
            "536/536 [==============================] - 1s 2ms/step - loss: 0.3773 - accuracy: 0.8367 - val_loss: 0.3399 - val_accuracy: 0.8607\n",
            "Epoch 32/100\n",
            "536/536 [==============================] - 1s 2ms/step - loss: 0.3731 - accuracy: 0.8421 - val_loss: 0.3348 - val_accuracy: 0.8679\n",
            "Epoch 33/100\n",
            "536/536 [==============================] - 1s 2ms/step - loss: 0.3774 - accuracy: 0.8403 - val_loss: 0.3395 - val_accuracy: 0.8588\n",
            "Epoch 34/100\n",
            "536/536 [==============================] - 1s 2ms/step - loss: 0.3752 - accuracy: 0.8380 - val_loss: 0.3327 - val_accuracy: 0.8697\n",
            "Epoch 35/100\n",
            "536/536 [==============================] - 1s 2ms/step - loss: 0.3714 - accuracy: 0.8489 - val_loss: 0.3349 - val_accuracy: 0.8697\n",
            "Epoch 36/100\n",
            "536/536 [==============================] - 1s 2ms/step - loss: 0.3690 - accuracy: 0.8453 - val_loss: 0.3377 - val_accuracy: 0.8622\n",
            "Epoch 37/100\n",
            "536/536 [==============================] - 1s 2ms/step - loss: 0.3656 - accuracy: 0.8468 - val_loss: 0.3326 - val_accuracy: 0.8709\n",
            "Epoch 38/100\n",
            "536/536 [==============================] - 1s 2ms/step - loss: 0.3703 - accuracy: 0.8427 - val_loss: 0.3361 - val_accuracy: 0.8701\n",
            "Epoch 39/100\n",
            "536/536 [==============================] - 1s 2ms/step - loss: 0.3715 - accuracy: 0.8453 - val_loss: 0.3357 - val_accuracy: 0.8701\n",
            "Epoch 40/100\n",
            "536/536 [==============================] - 1s 2ms/step - loss: 0.3672 - accuracy: 0.8447 - val_loss: 0.3360 - val_accuracy: 0.8697\n",
            "Epoch 41/100\n",
            "536/536 [==============================] - 1s 2ms/step - loss: 0.3649 - accuracy: 0.8485 - val_loss: 0.3346 - val_accuracy: 0.8675\n",
            "Epoch 42/100\n",
            "536/536 [==============================] - 1s 2ms/step - loss: 0.3644 - accuracy: 0.8457 - val_loss: 0.3347 - val_accuracy: 0.8686\n",
            "Epoch 43/100\n",
            "536/536 [==============================] - 1s 2ms/step - loss: 0.3640 - accuracy: 0.8453 - val_loss: 0.3337 - val_accuracy: 0.8663\n",
            "Epoch 44/100\n",
            "536/536 [==============================] - 1s 2ms/step - loss: 0.3699 - accuracy: 0.8438 - val_loss: 0.3357 - val_accuracy: 0.8686\n",
            "Epoch 45/100\n",
            "536/536 [==============================] - 1s 2ms/step - loss: 0.3633 - accuracy: 0.8494 - val_loss: 0.3344 - val_accuracy: 0.8701\n",
            "Epoch 46/100\n",
            "536/536 [==============================] - 1s 2ms/step - loss: 0.3697 - accuracy: 0.8464 - val_loss: 0.3393 - val_accuracy: 0.8622\n",
            "Epoch 47/100\n",
            "536/536 [==============================] - 1s 2ms/step - loss: 0.3695 - accuracy: 0.8466 - val_loss: 0.3365 - val_accuracy: 0.8709\n",
            "Epoch 48/100\n",
            "536/536 [==============================] - 1s 2ms/step - loss: 0.3538 - accuracy: 0.8545 - val_loss: 0.3317 - val_accuracy: 0.8701\n",
            "Epoch 49/100\n",
            "536/536 [==============================] - 1s 2ms/step - loss: 0.3626 - accuracy: 0.8518 - val_loss: 0.3362 - val_accuracy: 0.8686\n",
            "Epoch 50/100\n",
            "536/536 [==============================] - 1s 2ms/step - loss: 0.3671 - accuracy: 0.8468 - val_loss: 0.3356 - val_accuracy: 0.8663\n",
            "Epoch 51/100\n",
            "536/536 [==============================] - 1s 2ms/step - loss: 0.3526 - accuracy: 0.8554 - val_loss: 0.3349 - val_accuracy: 0.8675\n",
            "Epoch 52/100\n",
            "536/536 [==============================] - 1s 2ms/step - loss: 0.3580 - accuracy: 0.8507 - val_loss: 0.3343 - val_accuracy: 0.8682\n",
            "Epoch 53/100\n",
            "536/536 [==============================] - 1s 2ms/step - loss: 0.3612 - accuracy: 0.8502 - val_loss: 0.3328 - val_accuracy: 0.8660\n",
            "Epoch 54/100\n",
            "536/536 [==============================] - 1s 2ms/step - loss: 0.3603 - accuracy: 0.8466 - val_loss: 0.3344 - val_accuracy: 0.8675\n",
            "Epoch 55/100\n",
            "536/536 [==============================] - 1s 2ms/step - loss: 0.3579 - accuracy: 0.8505 - val_loss: 0.3353 - val_accuracy: 0.8675\n",
            "Epoch 56/100\n",
            "536/536 [==============================] - 1s 2ms/step - loss: 0.3645 - accuracy: 0.8489 - val_loss: 0.3324 - val_accuracy: 0.8675\n",
            "Epoch 57/100\n",
            "536/536 [==============================] - 1s 2ms/step - loss: 0.3574 - accuracy: 0.8496 - val_loss: 0.3354 - val_accuracy: 0.8671\n",
            "Epoch 58/100\n",
            "536/536 [==============================] - 1s 2ms/step - loss: 0.3596 - accuracy: 0.8511 - val_loss: 0.3366 - val_accuracy: 0.8671\n",
            "Epoch 59/100\n",
            "536/536 [==============================] - 1s 2ms/step - loss: 0.3614 - accuracy: 0.8483 - val_loss: 0.3376 - val_accuracy: 0.8682\n",
            "Epoch 60/100\n",
            "536/536 [==============================] - 1s 2ms/step - loss: 0.3577 - accuracy: 0.8507 - val_loss: 0.3373 - val_accuracy: 0.8697\n",
            "Epoch 61/100\n",
            "536/536 [==============================] - 1s 2ms/step - loss: 0.3697 - accuracy: 0.8416 - val_loss: 0.3351 - val_accuracy: 0.8694\n",
            "Epoch 62/100\n",
            "536/536 [==============================] - 1s 2ms/step - loss: 0.3545 - accuracy: 0.8528 - val_loss: 0.3360 - val_accuracy: 0.8697\n",
            "Epoch 63/100\n",
            "536/536 [==============================] - 1s 2ms/step - loss: 0.3566 - accuracy: 0.8449 - val_loss: 0.3347 - val_accuracy: 0.8675\n",
            "Epoch 64/100\n",
            "536/536 [==============================] - 1s 2ms/step - loss: 0.3566 - accuracy: 0.8511 - val_loss: 0.3354 - val_accuracy: 0.8667\n",
            "Epoch 65/100\n",
            "536/536 [==============================] - 1s 2ms/step - loss: 0.3542 - accuracy: 0.8492 - val_loss: 0.3352 - val_accuracy: 0.8675\n",
            "Epoch 66/100\n",
            "536/536 [==============================] - 1s 2ms/step - loss: 0.3602 - accuracy: 0.8434 - val_loss: 0.3358 - val_accuracy: 0.8690\n",
            "Epoch 67/100\n",
            "536/536 [==============================] - 1s 2ms/step - loss: 0.3572 - accuracy: 0.8500 - val_loss: 0.3347 - val_accuracy: 0.8675\n",
            "Epoch 68/100\n",
            "536/536 [==============================] - 1s 2ms/step - loss: 0.3554 - accuracy: 0.8464 - val_loss: 0.3336 - val_accuracy: 0.8682\n",
            "Epoch 69/100\n",
            "536/536 [==============================] - 1s 2ms/step - loss: 0.3589 - accuracy: 0.8490 - val_loss: 0.3342 - val_accuracy: 0.8694\n",
            "Epoch 70/100\n",
            "536/536 [==============================] - 1s 2ms/step - loss: 0.3603 - accuracy: 0.8483 - val_loss: 0.3332 - val_accuracy: 0.8675\n",
            "Epoch 71/100\n",
            "536/536 [==============================] - 1s 2ms/step - loss: 0.3552 - accuracy: 0.8541 - val_loss: 0.3332 - val_accuracy: 0.8675\n",
            "Epoch 72/100\n",
            "536/536 [==============================] - 1s 2ms/step - loss: 0.3560 - accuracy: 0.8485 - val_loss: 0.3346 - val_accuracy: 0.8675\n",
            "Epoch 73/100\n",
            "536/536 [==============================] - 1s 2ms/step - loss: 0.3560 - accuracy: 0.8531 - val_loss: 0.3339 - val_accuracy: 0.8705\n",
            "Epoch 74/100\n",
            "536/536 [==============================] - 1s 2ms/step - loss: 0.3528 - accuracy: 0.8533 - val_loss: 0.3325 - val_accuracy: 0.8686\n",
            "Epoch 75/100\n",
            "536/536 [==============================] - 1s 2ms/step - loss: 0.3599 - accuracy: 0.8487 - val_loss: 0.3344 - val_accuracy: 0.8694\n",
            "Epoch 76/100\n",
            "536/536 [==============================] - 1s 2ms/step - loss: 0.3511 - accuracy: 0.8505 - val_loss: 0.3356 - val_accuracy: 0.8660\n",
            "Epoch 77/100\n",
            "536/536 [==============================] - 1s 2ms/step - loss: 0.3527 - accuracy: 0.8494 - val_loss: 0.3335 - val_accuracy: 0.8701\n",
            "Epoch 78/100\n",
            "536/536 [==============================] - 1s 2ms/step - loss: 0.3576 - accuracy: 0.8505 - val_loss: 0.3383 - val_accuracy: 0.8671\n",
            "Epoch 79/100\n",
            "536/536 [==============================] - 1s 2ms/step - loss: 0.3519 - accuracy: 0.8539 - val_loss: 0.3337 - val_accuracy: 0.8682\n",
            "Epoch 80/100\n",
            "536/536 [==============================] - 1s 2ms/step - loss: 0.3538 - accuracy: 0.8496 - val_loss: 0.3344 - val_accuracy: 0.8660\n",
            "Epoch 81/100\n",
            "536/536 [==============================] - 1s 2ms/step - loss: 0.3511 - accuracy: 0.8537 - val_loss: 0.3331 - val_accuracy: 0.8667\n",
            "Epoch 82/100\n",
            "536/536 [==============================] - 1s 2ms/step - loss: 0.3478 - accuracy: 0.8546 - val_loss: 0.3346 - val_accuracy: 0.8675\n",
            "Epoch 83/100\n",
            "536/536 [==============================] - 1s 2ms/step - loss: 0.3475 - accuracy: 0.8520 - val_loss: 0.3347 - val_accuracy: 0.8682\n",
            "Epoch 84/100\n",
            "536/536 [==============================] - 1s 2ms/step - loss: 0.3534 - accuracy: 0.8543 - val_loss: 0.3363 - val_accuracy: 0.8663\n",
            "Epoch 85/100\n",
            "536/536 [==============================] - 1s 2ms/step - loss: 0.3490 - accuracy: 0.8556 - val_loss: 0.3331 - val_accuracy: 0.8671\n",
            "Epoch 86/100\n",
            "536/536 [==============================] - 1s 2ms/step - loss: 0.3548 - accuracy: 0.8543 - val_loss: 0.3368 - val_accuracy: 0.8675\n",
            "Epoch 87/100\n",
            "536/536 [==============================] - 1s 2ms/step - loss: 0.3539 - accuracy: 0.8530 - val_loss: 0.3340 - val_accuracy: 0.8682\n",
            "Epoch 88/100\n",
            "536/536 [==============================] - 1s 2ms/step - loss: 0.3538 - accuracy: 0.8513 - val_loss: 0.3340 - val_accuracy: 0.8690\n",
            "Epoch 89/100\n",
            "536/536 [==============================] - 1s 2ms/step - loss: 0.3465 - accuracy: 0.8559 - val_loss: 0.3346 - val_accuracy: 0.8705\n",
            "Epoch 90/100\n",
            "536/536 [==============================] - 1s 2ms/step - loss: 0.3484 - accuracy: 0.8524 - val_loss: 0.3349 - val_accuracy: 0.8675\n",
            "Epoch 91/100\n",
            "536/536 [==============================] - 1s 2ms/step - loss: 0.3478 - accuracy: 0.8563 - val_loss: 0.3337 - val_accuracy: 0.8686\n",
            "Epoch 92/100\n",
            "536/536 [==============================] - 1s 2ms/step - loss: 0.3481 - accuracy: 0.8548 - val_loss: 0.3327 - val_accuracy: 0.8675\n",
            "Epoch 93/100\n",
            "536/536 [==============================] - 1s 2ms/step - loss: 0.3588 - accuracy: 0.8492 - val_loss: 0.3330 - val_accuracy: 0.8656\n",
            "Epoch 94/100\n",
            "536/536 [==============================] - 1s 2ms/step - loss: 0.3464 - accuracy: 0.8574 - val_loss: 0.3327 - val_accuracy: 0.8622\n",
            "Epoch 95/100\n",
            "536/536 [==============================] - 1s 2ms/step - loss: 0.3422 - accuracy: 0.8543 - val_loss: 0.3321 - val_accuracy: 0.8675\n",
            "Epoch 96/100\n",
            "536/536 [==============================] - 1s 2ms/step - loss: 0.3508 - accuracy: 0.8556 - val_loss: 0.3326 - val_accuracy: 0.8679\n",
            "Epoch 97/100\n",
            "536/536 [==============================] - 1s 2ms/step - loss: 0.3512 - accuracy: 0.8496 - val_loss: 0.3355 - val_accuracy: 0.8701\n",
            "Epoch 98/100\n",
            "536/536 [==============================] - 1s 2ms/step - loss: 0.3515 - accuracy: 0.8526 - val_loss: 0.3330 - val_accuracy: 0.8644\n",
            "Epoch 99/100\n",
            "536/536 [==============================] - 1s 2ms/step - loss: 0.3524 - accuracy: 0.8511 - val_loss: 0.3338 - val_accuracy: 0.8660\n",
            "Epoch 100/100\n",
            "536/536 [==============================] - 1s 2ms/step - loss: 0.3516 - accuracy: 0.8552 - val_loss: 0.3350 - val_accuracy: 0.8663\n"
          ]
        }
      ]
    },
    {
      "cell_type": "code",
      "metadata": {
        "id": "Xg1_Gd6X5uUd"
      },
      "source": [
        "# making predictions on test data and evaulating the model\n",
        "y_pred = classifier.predict(X_test)\n",
        "y_pred = (y_pred > 0.5)   # for > 0.5 say t and f"
      ],
      "execution_count": null,
      "outputs": []
    },
    {
      "cell_type": "code",
      "metadata": {
        "id": "gE6BJOAU--Ek"
      },
      "source": [
        "from sklearn.metrics import confusion_matrix,accuracy_score\n",
        "cm = confusion_matrix(y_test,y_pred)"
      ],
      "execution_count": null,
      "outputs": []
    },
    {
      "cell_type": "code",
      "metadata": {
        "colab": {
          "base_uri": "https://localhost:8080/"
        },
        "id": "CokXZlW2_Hqb",
        "outputId": "1ad47576-2e3e-476e-bc20-7705784eeafc"
      },
      "source": [
        "accuracy_score(y_test,y_pred)"
      ],
      "execution_count": null,
      "outputs": [
        {
          "output_type": "execute_result",
          "data": {
            "text/plain": [
              "0.8615"
            ]
          },
          "metadata": {},
          "execution_count": 61
        }
      ]
    },
    {
      "cell_type": "markdown",
      "metadata": {
        "id": "iB2za6E5_4If"
      },
      "source": [
        "lets try nd add one more hidden layer\n",
        "So adding third layer accuracy has increased by 1% now lets try and add some dropout ratio for layer\n",
        "* after adding dropout ratio accuracy was almost same"
      ]
    },
    {
      "cell_type": "code",
      "metadata": {
        "id": "2bTT5-1u_iY7"
      },
      "source": [
        ""
      ],
      "execution_count": null,
      "outputs": []
    }
  ]
}